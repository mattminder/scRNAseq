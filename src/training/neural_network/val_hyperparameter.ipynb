{
 "cells": [
  {
   "cell_type": "code",
   "execution_count": 1,
   "metadata": {
    "collapsed": true
   },
   "outputs": [],
   "source": [
    "import numpy as np\n",
    "import time\n",
    "\n",
    "import torch\n",
    "from torch.autograd import Variable\n",
    "import torch.utils.data as utils\n",
    "from neural_net import NeuralNet\n",
    "from NN_utils import read_labels, read_data"
   ]
  },
  {
   "cell_type": "code",
   "execution_count": 2,
   "metadata": {},
   "outputs": [
    {
     "name": "stdout",
     "output_type": "stream",
     "text": [
      "(6000, 500)\n",
      "(6000,)\n"
     ]
    }
   ],
   "source": [
    "# Load data\n",
    "#x_name = 'data/train_data_GS.csv' \n",
    "y_name = 'data/response.csv'\n",
    "\n",
    "#X = read_data(x_name)\n",
    "y = read_labels(y_name)\n",
    "\n",
    "X = np.load('data/train_500pcs.npy')\n",
    "\n",
    "print(X.shape)\n",
    "print(y.shape)"
   ]
  },
  {
   "cell_type": "code",
   "execution_count": 3,
   "metadata": {},
   "outputs": [
    {
     "name": "stdout",
     "output_type": "stream",
     "text": [
      "Train data shape:  (5100, 500)\n",
      "Train labels shape:  (5100,)\n",
      "Validation data shape:  (900, 500)\n",
      "Validation labels shape:  (900,)\n"
     ]
    }
   ],
   "source": [
    "# Split into train and validation\n",
    "# such that nb of class in train and validation are equal\n",
    "percent = 0.15\n",
    "idx_true = np.random.permutation([i for i in range(len(y)) if y[i]==1]) # permute so that choice is random when taking the first n elements\n",
    "idx_false = np.random.permutation([i for i in range(len(y)) if y[i]==0])\n",
    "idx_val = np.append(idx_true[:int(len(idx_true)*percent)],idx_false[:int(len(idx_false)*percent)])\n",
    "idx_train = np.append(idx_true[int(len(idx_true)*percent):],idx_false[int(len(idx_false)*percent):])\n",
    "\n",
    "X_train = X[idx_train,:]\n",
    "y_train = y[idx_train]\n",
    "X_val = X[idx_val,:]\n",
    "y_val = y[idx_val]\n",
    "\n",
    "print('Train data shape: ', X_train.shape)\n",
    "print('Train labels shape: ', y_train.shape)\n",
    "print('Validation data shape: ', X_val.shape)\n",
    "print('Validation labels shape: ', y_val.shape)"
   ]
  },
  {
   "cell_type": "code",
   "execution_count": 4,
   "metadata": {
    "collapsed": true
   },
   "outputs": [],
   "source": [
    "X_train, y_train = torch.from_numpy(X_train).type(torch.FloatTensor), torch.from_numpy(y_train).type(torch.LongTensor)\n",
    "X_val, y_val = torch.from_numpy(X_val).type(torch.FloatTensor), torch.from_numpy(y_val).type(torch.LongTensor)\n",
    "\n",
    "traindataset = utils.TensorDataset(X_train, y_train)\n",
    "trainloader = utils.DataLoader(traindataset, batch_size=50, shuffle=True)\n",
    "\n",
    "val_batch_size = 50\n",
    "valdataset = utils.TensorDataset(X_val, y_val)\n",
    "valloader = utils.DataLoader(valdataset, batch_size=val_batch_size, shuffle=True)"
   ]
  },
  {
   "cell_type": "code",
   "execution_count": 5,
   "metadata": {
    "collapsed": true
   },
   "outputs": [],
   "source": [
    "# Choice of hyperparameters\n",
    "n_combinations = 20\n",
    "lr = 10**(np.random.uniform(-2,-1,n_combinations)) # Random numbers between 10^-10 and 10^0 (log-scale)\n",
    "reg = 10**(np.random.uniform(-10,-7,n_combinations)) # Random numbers between 10^-10 and 10^0 (log-scale)\n",
    "momentum = 0.95\n",
    "criterion = torch.nn.CrossEntropyLoss()\n",
    "epochs = 1"
   ]
  },
  {
   "cell_type": "code",
   "execution_count": 6,
   "metadata": {
    "scrolled": true
   },
   "outputs": [
    {
     "name": "stdout",
     "output_type": "stream",
     "text": [
      "val_acc: 0.8433.. lr: 1.255184e-02.. reg: 4.921959e-09.. momentum: 0.9500..\n",
      "val_acc: 0.7789.. lr: 6.119068e-02.. reg: 5.201568e-09.. momentum: 0.9500..\n",
      "val_acc: 0.5000.. lr: 1.198604e-02.. reg: 2.657266e-10.. momentum: 0.9500..\n",
      "val_acc: 0.5011.. lr: 2.129107e-02.. reg: 7.072954e-10.. momentum: 0.9500..\n",
      "val_acc: 0.9078.. lr: 2.521031e-02.. reg: 1.814566e-10.. momentum: 0.9500..\n",
      "val_acc: 0.8711.. lr: 9.943488e-02.. reg: 4.820876e-10.. momentum: 0.9500..\n",
      "val_acc: 0.7556.. lr: 5.672386e-02.. reg: 1.766446e-09.. momentum: 0.9500..\n",
      "val_acc: 0.8156.. lr: 2.188348e-02.. reg: 1.363405e-08.. momentum: 0.9500..\n",
      "val_acc: 0.5000.. lr: 1.128453e-02.. reg: 4.085269e-09.. momentum: 0.9500..\n",
      "val_acc: 0.8489.. lr: 5.905495e-02.. reg: 4.508896e-10.. momentum: 0.9500..\n",
      "val_acc: 0.5056.. lr: 1.870326e-02.. reg: 2.703803e-10.. momentum: 0.9500..\n",
      "val_acc: 0.8122.. lr: 1.838784e-02.. reg: 1.504048e-09.. momentum: 0.9500..\n",
      "val_acc: 0.8722.. lr: 4.786675e-02.. reg: 3.308049e-10.. momentum: 0.9500..\n",
      "val_acc: 0.8533.. lr: 6.581519e-02.. reg: 1.751169e-09.. momentum: 0.9500..\n",
      "val_acc: 0.8267.. lr: 5.407546e-02.. reg: 4.042578e-08.. momentum: 0.9500..\n",
      "val_acc: 0.9067.. lr: 4.089502e-02.. reg: 5.939033e-09.. momentum: 0.9500..\n",
      "val_acc: 0.5256.. lr: 2.819481e-02.. reg: 1.261580e-08.. momentum: 0.9500..\n",
      "val_acc: 0.7967.. lr: 5.672151e-02.. reg: 3.806751e-08.. momentum: 0.9500..\n",
      "val_acc: 0.5000.. lr: 2.201069e-02.. reg: 5.454598e-09.. momentum: 0.9500..\n",
      "val_acc: 0.5000.. lr: 1.553813e-02.. reg: 9.359765e-10.. momentum: 0.9500..\n"
     ]
    }
   ],
   "source": [
    "# Try different learning rates and regularizations\n",
    "for n in range(n_combinations):\n",
    "    net = NeuralNet(n_input_channels=X_train.shape[1]) # Reinitialize neural net\n",
    "    optimizer = torch.optim.SGD(net.parameters(), lr = lr[n], weight_decay = reg[n], momentum = momentum)\n",
    "    # Training and validation\n",
    "    for e in range(epochs):\n",
    "        for data, labels in iter(trainloader):\n",
    "            #transofrm inputs and outputs into Variable \n",
    "            inputs, targets = Variable(data), Variable(labels)\n",
    "\n",
    "            #set gradient to zero\n",
    "            optimizer.zero_grad()\n",
    "\n",
    "            # forward pass\n",
    "            out = net.forward(inputs)\n",
    "\n",
    "            loss = criterion(out, targets)\n",
    "            loss.backward()\n",
    "            optimizer.step()\n",
    "\n",
    "\n",
    "    # Validation accuracy\n",
    "    accuracy = 0\n",
    "    for ii, (data, labels) in enumerate(valloader):\n",
    "        out = net.predict(Variable(data))\n",
    "        _, prediction = torch.max(out, 1)\n",
    "        pred_y = prediction.data.numpy().squeeze()\n",
    "        target_y = (labels.numpy()).data\n",
    "        accuracy += sum(pred_y == target_y)/val_batch_size\n",
    "\n",
    "    print(\"val_acc: {:.4f}..\".format(accuracy/(len(valloader))),\n",
    "          \"lr: {:.6e}..\".format(lr[n]),\n",
    "          \"reg: {:.6e}..\".format(reg[n]),\n",
    "          \"momentum: {:.4f}..\".format(momentum)\n",
    "          )"
   ]
  },
  {
   "cell_type": "code",
   "execution_count": null,
   "metadata": {
    "collapsed": true
   },
   "outputs": [],
   "source": []
  },
  {
   "cell_type": "code",
   "execution_count": null,
   "metadata": {
    "collapsed": true
   },
   "outputs": [],
   "source": []
  }
 ],
 "metadata": {
  "kernelspec": {
   "display_name": "Python 3",
   "language": "python",
   "name": "python3"
  },
  "language_info": {
   "codemirror_mode": {
    "name": "ipython",
    "version": 3
   },
   "file_extension": ".py",
   "mimetype": "text/x-python",
   "name": "python",
   "nbconvert_exporter": "python",
   "pygments_lexer": "ipython3",
   "version": "3.6.1"
  }
 },
 "nbformat": 4,
 "nbformat_minor": 2
}
